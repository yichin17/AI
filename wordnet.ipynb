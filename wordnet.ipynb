{
  "nbformat": 4,
  "nbformat_minor": 0,
  "metadata": {
    "colab": {
      "provenance": [],
      "gpuType": "T4",
      "authorship_tag": "ABX9TyOnMLUHVvEejGd2hTUp9xFY",
      "include_colab_link": true
    },
    "kernelspec": {
      "name": "python3",
      "display_name": "Python 3"
    },
    "language_info": {
      "name": "python"
    },
    "accelerator": "GPU"
  },
  "cells": [
    {
      "cell_type": "markdown",
      "metadata": {
        "id": "view-in-github",
        "colab_type": "text"
      },
      "source": [
        "<a href=\"https://colab.research.google.com/github/yichin17/AI/blob/main/wordnet.ipynb\" target=\"_parent\"><img src=\"https://colab.research.google.com/assets/colab-badge.svg\" alt=\"Open In Colab\"/></a>"
      ]
    },
    {
      "cell_type": "code",
      "execution_count": 1,
      "metadata": {
        "colab": {
          "base_uri": "https://localhost:8080/"
        },
        "id": "ea_5_ApOFYC9",
        "outputId": "b4b7e67d-f021-46cc-a17b-9c0c7e8a281b"
      },
      "outputs": [
        {
          "output_type": "stream",
          "name": "stdout",
          "text": [
            "Collecting CwnGraph\n",
            "  Downloading CwnGraph-0.4.0-py3-none-any.whl (32 kB)\n",
            "Requirement already satisfied: gdown>=4.4.0 in /usr/local/lib/python3.10/dist-packages (from CwnGraph) (5.1.0)\n",
            "Requirement already satisfied: requests in /usr/local/lib/python3.10/dist-packages (from CwnGraph) (2.31.0)\n",
            "Requirement already satisfied: nltk in /usr/local/lib/python3.10/dist-packages (from CwnGraph) (3.8.1)\n",
            "Requirement already satisfied: beautifulsoup4 in /usr/local/lib/python3.10/dist-packages (from gdown>=4.4.0->CwnGraph) (4.12.3)\n",
            "Requirement already satisfied: filelock in /usr/local/lib/python3.10/dist-packages (from gdown>=4.4.0->CwnGraph) (3.14.0)\n",
            "Requirement already satisfied: tqdm in /usr/local/lib/python3.10/dist-packages (from gdown>=4.4.0->CwnGraph) (4.66.4)\n",
            "Requirement already satisfied: click in /usr/local/lib/python3.10/dist-packages (from nltk->CwnGraph) (8.1.7)\n",
            "Requirement already satisfied: joblib in /usr/local/lib/python3.10/dist-packages (from nltk->CwnGraph) (1.4.2)\n",
            "Requirement already satisfied: regex>=2021.8.3 in /usr/local/lib/python3.10/dist-packages (from nltk->CwnGraph) (2023.12.25)\n",
            "Requirement already satisfied: charset-normalizer<4,>=2 in /usr/local/lib/python3.10/dist-packages (from requests->CwnGraph) (3.3.2)\n",
            "Requirement already satisfied: idna<4,>=2.5 in /usr/local/lib/python3.10/dist-packages (from requests->CwnGraph) (3.7)\n",
            "Requirement already satisfied: urllib3<3,>=1.21.1 in /usr/local/lib/python3.10/dist-packages (from requests->CwnGraph) (2.0.7)\n",
            "Requirement already satisfied: certifi>=2017.4.17 in /usr/local/lib/python3.10/dist-packages (from requests->CwnGraph) (2024.2.2)\n",
            "Requirement already satisfied: soupsieve>1.2 in /usr/local/lib/python3.10/dist-packages (from beautifulsoup4->gdown>=4.4.0->CwnGraph) (2.5)\n",
            "Requirement already satisfied: PySocks!=1.5.7,>=1.5.6 in /usr/local/lib/python3.10/dist-packages (from requests->CwnGraph) (1.7.1)\n",
            "Installing collected packages: CwnGraph\n",
            "Successfully installed CwnGraph-0.4.0\n"
          ]
        }
      ],
      "source": [
        "!pip install CwnGraph"
      ]
    },
    {
      "cell_type": "code",
      "source": [
        "from CwnGraph import CwnImage\n",
        "cwn = CwnImage.latest() # 取得最新版本的 CwnImage\n",
        "\n",
        "# 查詢詞條 cwn.find_lemma\n",
        "# lemmas = cwn.find_lemma(\"頭\")\n",
        "lemmas = cwn.find_lemma(\"科大\")\n",
        "\n",
        "lemmas"
      ],
      "metadata": {
        "colab": {
          "base_uri": "https://localhost:8080/"
        },
        "id": "BgEPR6LTFqdO",
        "outputId": "b94946c3-c7d0-43db-ac39-b07fa8d241b4"
      },
      "execution_count": 2,
      "outputs": [
        {
          "output_type": "stream",
          "name": "stdout",
          "text": [
            "updating manifest...\n",
            "manifest version:  v2022.08\n",
            "downloading image: 1znQexFItQsALVz6hZmBfR5uvcNdhclOZ...\n"
          ]
        },
        {
          "output_type": "stream",
          "name": "stderr",
          "text": [
            "Downloading...\n",
            "From: https://drive.google.com/uc?id=1znQexFItQsALVz6hZmBfR5uvcNdhclOZ\n",
            "To: /content/cwn-graph-v.2022.08.01.pyobj\n",
            "100%|██████████| 31.6M/31.6M [00:00<00:00, 53.9MB/s]\n"
          ]
        },
        {
          "output_type": "stream",
          "name": "stdout",
          "text": [
            "image has downloaded:  cwn-graph-v.2022.08.01.pyobj\n"
          ]
        },
        {
          "output_type": "execute_result",
          "data": {
            "text/plain": [
              "[<CwnLemma: 台科大_1>]"
            ]
          },
          "metadata": {},
          "execution_count": 2
        }
      ]
    },
    {
      "cell_type": "code",
      "source": [
        "import nltk\n",
        "nltk.download('wordnet')\n",
        "from nltk.corpus import wordnet as wn\n",
        "#wn.synsets('dog') #列出跟狗有關的詞\n",
        "wn.synsets('doctor')"
      ],
      "metadata": {
        "colab": {
          "base_uri": "https://localhost:8080/"
        },
        "id": "rxSFTiWDGKH1",
        "outputId": "37aeef22-d3f6-460b-e34c-75b5183f4f2e"
      },
      "execution_count": 7,
      "outputs": [
        {
          "output_type": "stream",
          "name": "stderr",
          "text": [
            "[nltk_data] Downloading package wordnet to /root/nltk_data...\n",
            "[nltk_data]   Package wordnet is already up-to-date!\n"
          ]
        },
        {
          "output_type": "execute_result",
          "data": {
            "text/plain": [
              "[Synset('doctor.n.01'),\n",
              " Synset('doctor_of_the_church.n.01'),\n",
              " Synset('doctor.n.03'),\n",
              " Synset('doctor.n.04'),\n",
              " Synset('sophisticate.v.03'),\n",
              " Synset('doctor.v.02'),\n",
              " Synset('repair.v.01')]"
            ]
          },
          "metadata": {},
          "execution_count": 7
        }
      ]
    },
    {
      "cell_type": "code",
      "source": [
        "# 引入 nltk 庫\n",
        "import nltk\n",
        "\n",
        "# 下載 WordNet 資料\n",
        "nltk.download('wordnet')\n",
        "\n",
        "# 引入 WordNet 模塊\n",
        "from nltk.corpus import wordnet as wn\n",
        "\n",
        "# 查詢詞條 的同義詞集\n",
        "synsets = wn.synsets('home')\n",
        "\n",
        "# 列出查詢結果的所有同義詞集及其詳細資訊\n",
        "for synset in synsets:\n",
        "    print(f\"同義詞集名稱: {synset.name()}\")  # 列出同義詞集名稱\n",
        "    print(f\"詞性: {synset.pos()}\")  # 列出詞性\n",
        "    print(f\"定義: {synset.definition()}\")  # 列出定義\n",
        "    print(f\"例句: {synset.examples()}\")  # 列出例句\n",
        "    print()"
      ],
      "metadata": {
        "colab": {
          "base_uri": "https://localhost:8080/"
        },
        "id": "cTPXYAVCGkEe",
        "outputId": "afbefbe3-0646-4fef-87d6-ccac5902d06e"
      },
      "execution_count": 8,
      "outputs": [
        {
          "output_type": "stream",
          "name": "stdout",
          "text": [
            "同義詞集名稱: home.n.01\n",
            "詞性: n\n",
            "定義: where you live at a particular time\n",
            "例句: ['deliver the package to my home', \"he doesn't have a home to go to\", 'your place or mine?']\n",
            "\n",
            "同義詞集名稱: dwelling.n.01\n",
            "詞性: n\n",
            "定義: housing that someone is living in\n",
            "例句: ['he built a modest dwelling near the pond', 'they raise money to provide homes for the homeless']\n",
            "\n",
            "同義詞集名稱: home.n.03\n",
            "詞性: n\n",
            "定義: the country or state or city where you live\n",
            "例句: ['Canadian tariffs enabled United States lumber companies to raise prices at home', 'his home is New Jersey']\n",
            "\n",
            "同義詞集名稱: home_plate.n.01\n",
            "詞性: n\n",
            "定義: (baseball) base consisting of a rubber slab where the batter stands; it must be touched by a base runner in order to score\n",
            "例句: ['he ruled that the runner failed to touch home']\n",
            "\n",
            "同義詞集名稱: base.n.14\n",
            "詞性: n\n",
            "定義: the place where you are stationed and from which missions start and end\n",
            "例句: []\n",
            "\n",
            "同義詞集名稱: home.n.06\n",
            "詞性: n\n",
            "定義: place where something began and flourished\n",
            "例句: ['the United States is the home of basketball']\n",
            "\n",
            "同義詞集名稱: home.n.07\n",
            "詞性: n\n",
            "定義: an environment offering affection and security\n",
            "例句: ['home is where the heart is', 'he grew up in a good Christian home', \"there's no place like home\"]\n",
            "\n",
            "同義詞集名稱: family.n.01\n",
            "詞性: n\n",
            "定義: a social unit living together\n",
            "例句: ['he moved his family to Virginia', 'It was a good Christian household', 'I waited until the whole house was asleep', 'the teacher asked how many people made up his home']\n",
            "\n",
            "同義詞集名稱: home.n.09\n",
            "詞性: n\n",
            "定義: an institution where people are cared for\n",
            "例句: ['a home for the elderly']\n",
            "\n",
            "同義詞集名稱: home.v.01\n",
            "詞性: v\n",
            "定義: provide with, or send to, a home\n",
            "例句: []\n",
            "\n",
            "同義詞集名稱: home.v.02\n",
            "詞性: v\n",
            "定義: return home accurately from a long distance\n",
            "例句: ['homing pigeons']\n",
            "\n",
            "同義詞集名稱: home.a.01\n",
            "詞性: a\n",
            "定義: used of your own ground\n",
            "例句: ['a home game']\n",
            "\n",
            "同義詞集名稱: home.a.02\n",
            "詞性: a\n",
            "定義: relating to or being where one lives or where one's roots are\n",
            "例句: ['my home town']\n",
            "\n",
            "同義詞集名稱: home.s.03\n",
            "詞性: s\n",
            "定義: inside the country\n",
            "例句: ['the British Home Office has broader responsibilities than the United States Department of the Interior', \"the nation's internal politics\"]\n",
            "\n",
            "同義詞集名稱: home.r.01\n",
            "詞性: r\n",
            "定義: at or to or in the direction of one's home or family\n",
            "例句: ['He stays home on weekends', 'after the game the children brought friends home for supper', \"I'll be home tomorrow\", 'came riding home in style', 'I hope you will come home for Christmas', \"I'll take her home\", \"don't forget to write home\"]\n",
            "\n",
            "同義詞集名稱: home.r.02\n",
            "詞性: r\n",
            "定義: on or to the point aimed at\n",
            "例句: ['the arrow struck home']\n",
            "\n",
            "同義詞集名稱: home.r.03\n",
            "詞性: r\n",
            "定義: to the fullest extent; to the heart\n",
            "例句: ['drove the nail home', 'drove his point home', 'his comments hit home']\n",
            "\n"
          ]
        },
        {
          "output_type": "stream",
          "name": "stderr",
          "text": [
            "[nltk_data] Downloading package wordnet to /root/nltk_data...\n",
            "[nltk_data]   Package wordnet is already up-to-date!\n"
          ]
        }
      ]
    },
    {
      "cell_type": "code",
      "source": [],
      "metadata": {
        "id": "dzufsR64Gnm7"
      },
      "execution_count": null,
      "outputs": []
    }
  ]
}